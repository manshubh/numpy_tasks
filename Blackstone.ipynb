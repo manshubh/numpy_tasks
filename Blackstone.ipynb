{
 "cells": [
  {
   "cell_type": "markdown",
   "metadata": {},
   "source": [
    "# Blackstone Companies"
   ]
  },
  {
   "cell_type": "code",
   "execution_count": 225,
   "metadata": {
    "collapsed": true
   },
   "outputs": [],
   "source": [
    "#URl https://doppler.finra.org/doppler-lookup/api/v1/search/firms?hl=true&nrows=99000&query=Blackstone&r=2500&wt=json\n",
    "import urllib.request\n",
    "from bs4 import BeautifulSoup\n",
    "import json\n",
    "import numpy as np\n",
    "import pandas as pd"
   ]
  },
  {
   "cell_type": "code",
   "execution_count": 226,
   "metadata": {},
   "outputs": [],
   "source": [
    "def getdata(search=''):\n",
    "    firm_name=[]\n",
    "    source_id=[]\n",
    "    url=\"https://doppler.finra.org/doppler-lookup/api/v1/search/firms?hl=true&nrows=99000&query=\"+search+\"&r=2500&wt=json\"\n",
    "    page = urllib.request.urlopen(url)\n",
    "    data=json.loads(page.read())\n",
    "    data=data['results']['BROKER_CHECK_FIRM']['results']\n",
    "    if len(data)==0:\n",
    "        return pd.DataFrame(columns=['bc_firm_name','bc_source_id'])\n",
    "    else:\n",
    "        for i in range(len(data)):\n",
    "            datax=data[i]['fields']\n",
    "            if(datax['score']>0.4):\n",
    "                firm_name.append(datax['bc_firm_name'])\n",
    "                source_id.append(datax['bc_source_id'])\n",
    "        answer=pd.DataFrame(list(zip(firm_name,source_id)),columns=['bc_firm_name','bc_source_id'])\n",
    "        return answer"
   ]
  },
  {
   "cell_type": "code",
   "execution_count": 227,
   "metadata": {},
   "outputs": [
    {
     "data": {
      "text/html": [
       "<div>\n",
       "<style>\n",
       "    .dataframe thead tr:only-child th {\n",
       "        text-align: right;\n",
       "    }\n",
       "\n",
       "    .dataframe thead th {\n",
       "        text-align: left;\n",
       "    }\n",
       "\n",
       "    .dataframe tbody tr th {\n",
       "        vertical-align: top;\n",
       "    }\n",
       "</style>\n",
       "<table border=\"1\" class=\"dataframe\">\n",
       "  <thead>\n",
       "    <tr style=\"text-align: right;\">\n",
       "      <th></th>\n",
       "      <th>bc_firm_name</th>\n",
       "      <th>bc_source_id</th>\n",
       "    </tr>\n",
       "  </thead>\n",
       "  <tbody>\n",
       "    <tr>\n",
       "      <th>0</th>\n",
       "      <td>GSO CAPITAL PARTNERS LP</td>\n",
       "      <td>137519</td>\n",
       "    </tr>\n",
       "    <tr>\n",
       "      <th>1</th>\n",
       "      <td>GSO CAPITAL ADVISORS LLC</td>\n",
       "      <td>152294</td>\n",
       "    </tr>\n",
       "    <tr>\n",
       "      <th>0</th>\n",
       "      <td>BLACKSTONE MEZZANINE ADVISORS LP</td>\n",
       "      <td>109099</td>\n",
       "    </tr>\n",
       "    <tr>\n",
       "      <th>1</th>\n",
       "      <td>BLACKSTONE MANAGEMENT PARTNERS LP</td>\n",
       "      <td>109108</td>\n",
       "    </tr>\n",
       "    <tr>\n",
       "      <th>2</th>\n",
       "      <td>BLACKSTONE WEALTH MANAGEMENT</td>\n",
       "      <td>160794</td>\n",
       "    </tr>\n",
       "    <tr>\n",
       "      <th>3</th>\n",
       "      <td>BLACKSTONE ENERGY CORPORATION</td>\n",
       "      <td>14098</td>\n",
       "    </tr>\n",
       "    <tr>\n",
       "      <th>4</th>\n",
       "      <td>BLACKSTONE ALTERNATIVE ASSET MANAGEMENT LP</td>\n",
       "      <td>107580</td>\n",
       "    </tr>\n",
       "    <tr>\n",
       "      <th>5</th>\n",
       "      <td>BLACKSTONE COMMUNICATIONS ADVISORS I LLC</td>\n",
       "      <td>109106</td>\n",
       "    </tr>\n",
       "    <tr>\n",
       "      <th>6</th>\n",
       "      <td>BLACKSTONE DEBT ADVISORS L.P.</td>\n",
       "      <td>120934</td>\n",
       "    </tr>\n",
       "    <tr>\n",
       "      <th>7</th>\n",
       "      <td>BLACKSTONE REAL ESTATE ADVISORS LP</td>\n",
       "      <td>109110</td>\n",
       "    </tr>\n",
       "    <tr>\n",
       "      <th>8</th>\n",
       "      <td>BLACKSTONE MANAGEMENT PARTNERS III LLC</td>\n",
       "      <td>109103</td>\n",
       "    </tr>\n",
       "    <tr>\n",
       "      <th>9</th>\n",
       "      <td>BLACKSTONE PROPERTY ADVISORS L.P.</td>\n",
       "      <td>226598</td>\n",
       "    </tr>\n",
       "    <tr>\n",
       "      <th>10</th>\n",
       "      <td>BLACKSTONE ALTERNATIVE INVESTMENT ADVISORS LLC</td>\n",
       "      <td>165782</td>\n",
       "    </tr>\n",
       "    <tr>\n",
       "      <th>11</th>\n",
       "      <td>BLACKSTONE ADVISORY PARTNERS L.P.</td>\n",
       "      <td>17917</td>\n",
       "    </tr>\n",
       "  </tbody>\n",
       "</table>\n",
       "</div>"
      ],
      "text/plain": [
       "                                      bc_firm_name bc_source_id\n",
       "0                          GSO CAPITAL PARTNERS LP       137519\n",
       "1                         GSO CAPITAL ADVISORS LLC       152294\n",
       "0                 BLACKSTONE MEZZANINE ADVISORS LP       109099\n",
       "1                BLACKSTONE MANAGEMENT PARTNERS LP       109108\n",
       "2                     BLACKSTONE WEALTH MANAGEMENT       160794\n",
       "3                    BLACKSTONE ENERGY CORPORATION        14098\n",
       "4       BLACKSTONE ALTERNATIVE ASSET MANAGEMENT LP       107580\n",
       "5         BLACKSTONE COMMUNICATIONS ADVISORS I LLC       109106\n",
       "6                    BLACKSTONE DEBT ADVISORS L.P.       120934\n",
       "7               BLACKSTONE REAL ESTATE ADVISORS LP       109110\n",
       "8           BLACKSTONE MANAGEMENT PARTNERS III LLC       109103\n",
       "9                BLACKSTONE PROPERTY ADVISORS L.P.       226598\n",
       "10  BLACKSTONE ALTERNATIVE INVESTMENT ADVISORS LLC       165782\n",
       "11               BLACKSTONE ADVISORY PARTNERS L.P.        17917"
      ]
     },
     "execution_count": 227,
     "metadata": {},
     "output_type": "execute_result"
    }
   ],
   "source": [
    "search=[\"345%20Park%20Avenue\",\"GSO%20Capital\",\"BREP\",\"blackstone.com\",\"blackstone\",\"Blackstone%20Real%20Estate%20Partners\"]\n",
    "data=pd.DataFrame()\n",
    "for i in search:\n",
    "    data=pd.concat([data,getdata(i)],axis=0)\n",
    "data"
   ]
  },
  {
   "cell_type": "code",
   "execution_count": 229,
   "metadata": {},
   "outputs": [],
   "source": [
    "from PyPDF2 import PdfFileWriter, PdfFileReader\n",
    "from io import BytesIO\n",
    "def getauthor(ID=''):\n",
    "    newurl=\"https://adviserinfo.sec.gov/IAPD/IAPDFirmSummary.aspx?ORG_PK=\"+ID\n",
    "    newpage=urllib.request.urlopen(newurl)\n",
    "    soup = BeautifulSoup(newpage)\n",
    "    if str(soup).find(\"BRCHR_VRSN_ID\")==-1:\n",
    "        return ''\n",
    "    pdfid=str(soup)[str(soup).find(\"BRCHR_VRSN_ID\"):].split(\"\\\"\")[0].split(\"=\")[1]\n",
    "    pdfurl=\"https://adviserinfo.sec.gov/IAPD/Content/Common/crd_iapd_Brochure.aspx?BRCHR_VRSN_ID=\"+pdfid\n",
    "    pdfpage=urllib.request.urlopen(pdfurl)\n",
    "    memoryFile = BytesIO(pdfpage.read())\n",
    "    pdfFile = PdfFileReader(memoryFile)\n",
    "    if '/Author' in pdfFile.documentInfo:\n",
    "        return pdfFile.getDocumentInfo()['/Author']\n",
    "    else :\n",
    "        return ''"
   ]
  },
  {
   "cell_type": "code",
   "execution_count": 230,
   "metadata": {},
   "outputs": [
    {
     "name": "stderr",
     "output_type": "stream",
     "text": [
      "UserWarning: No parser was explicitly specified, so I'm using the best available HTML parser for this system (\"lxml\"). This usually isn't a problem, but if you run this code on another system, or in a different virtual environment, it may use a different parser and behave differently.\n",
      "\n",
      "The code that caused this warning is on line 193 of the file C:\\ProgramData\\Anaconda3\\lib\\runpy.py. To get rid of this warning, change code that looks like this:\n",
      "\n",
      " BeautifulSoup(YOUR_MARKUP})\n",
      "\n",
      "to this:\n",
      "\n",
      " BeautifulSoup(YOUR_MARKUP, \"lxml\")\n",
      " [__init__.py:181]\n"
     ]
    },
    {
     "data": {
      "text/plain": [
       "['Ascendant Template', 'Ascendant Template', 'Ascendant Template', '', '', 'TBG', '', 'Ascendant Template', '', '', '', 'TBG', '']"
      ]
     },
     "execution_count": 230,
     "metadata": {},
     "output_type": "execute_result"
    }
   ],
   "source": [
    "authorlist=[]\n",
    "for i in list(data['bc_source_id']):\n",
    "    authorlist.append(getauthor(i))\n",
    "authorlist"
   ]
  },
  {
   "cell_type": "code",
   "execution_count": 234,
   "metadata": {},
   "outputs": [
    {
     "data": {
      "text/plain": [
       "{'', 'TBG', 'Ascendant Template'}"
      ]
     },
     "execution_count": 234,
     "metadata": {},
     "output_type": "execute_result"
    }
   ],
   "source": [
    "set(authorlist)"
   ]
  },
  {
   "cell_type": "markdown",
   "metadata": {},
   "source": [
    "### As we see the two found authors were Ascendant Template or TBG"
   ]
  }
 ],
 "metadata": {
  "kernelspec": {
   "display_name": "Python 3",
   "language": "python",
   "name": "python3"
  },
  "language_info": {
   "codemirror_mode": {
    "name": "ipython",
    "version": 3
   },
   "file_extension": ".py",
   "mimetype": "text/x-python",
   "name": "python",
   "nbconvert_exporter": "python",
   "pygments_lexer": "ipython3",
   "version": "3.6.1"
  }
 },
 "nbformat": 4,
 "nbformat_minor": 2
}
